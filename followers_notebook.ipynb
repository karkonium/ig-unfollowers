{
 "cells": [
  {
   "cell_type": "code",
   "execution_count": 1,
   "metadata": {},
   "outputs": [],
   "source": [
    "import pandas as pd\n",
    "import requests\n",
    "from datetime import datetime\n",
    "from tqdm import tqdm\n",
    "import time\n",
    "import numpy as np\n",
    "import getpass\n"
   ]
  },
  {
   "cell_type": "code",
   "execution_count": 2,
   "metadata": {},
   "outputs": [],
   "source": [
    "username = input(\"Enter your ig user: \")\n",
    "password = getpass.getpass(\"Enter your password: \")"
   ]
  },
  {
   "cell_type": "code",
   "execution_count": 4,
   "metadata": {},
   "outputs": [
    {
     "name": "stdout",
     "output_type": "stream",
     "text": [
      "Login successful.\n"
     ]
    }
   ],
   "source": [
    "login_url = \"https://www.instagram.com/accounts/login/ajax/\"\n",
    "\n",
    "session = requests.Session()\n",
    "\n",
    "# Get the CSRF token by visiting the login page first\n",
    "response = session.get(\"https://www.instagram.com/accounts/login/\")\n",
    "csrf = session.cookies.get(\"csrftoken\")\n",
    "\n",
    "# Headers required for the login request\n",
    "headers = {\n",
    "    'user-agent': 'Mozilla/5.0 (Windows NT 10.0; Win64; x64) AppleWebKit/537.36 (KHTML, like Gecko) Chrome/124.0.0.0 Safari/537.36 Edg/124.0.0.0',\n",
    "    \"X-Requested-With\": \"XMLHttpRequest\",\n",
    "    \"Referer\": \"https://www.instagram.com/accounts/login/\",\n",
    "    \"x-csrftoken\": csrf\n",
    "}\n",
    "\n",
    "session.headers.update(headers)\n",
    "\n",
    "current_time = int(datetime.now().timestamp())\n",
    "\n",
    "payload = {\n",
    "    \"username\": username,\n",
    "    'enc_password': f'#PWD_INSTAGRAM_BROWSER:0:{current_time}:{password}',\n",
    "    \"queryParams\": {},\n",
    "    \"optIntoOneTap\": \"false\"\n",
    "}\n",
    "\n",
    "response = session.post(login_url, data=payload)\n",
    "\n",
    "if response.status_code == 200 and response.json().get(\"authenticated\"):\n",
    "    print(\"Login successful.\")\n",
    "else:\n",
    "    raise(\"Login failed.\")\n",
    "\n",
    "user_id = response.json()['userId']"
   ]
  },
  {
   "cell_type": "code",
   "execution_count": 5,
   "metadata": {},
   "outputs": [
    {
     "data": {
      "text/plain": [
       "'n_SY5M9WZleDNFlnLTcYud'"
      ]
     },
     "execution_count": 5,
     "metadata": {},
     "output_type": "execute_result"
    }
   ],
   "source": [
    "session.headers.get(\"x-csrftoken\")"
   ]
  },
  {
   "cell_type": "code",
   "execution_count": 127,
   "metadata": {},
   "outputs": [],
   "source": [
    "users_headers = {\n",
    "    'user-agent': 'Mozilla/5.0 (Windows NT 10.0; Win64; x64) AppleWebKit/537.36 (KHTML, like Gecko) Chrome/124.0.0.0 Safari/537.36 Edg/124.0.0.0',\n",
    "    \"x-csrftoken\": csrf,\n",
    "    \"Accept\": \"application/json\",\n",
    "    \"Content-Type\": \"application/json\",\n",
    "    'x-asbd-id': '129477',\n",
    "    'x-ig-app-id': '936619743392459',\n",
    "    'x-ig-www-claim': 'hmac.AR3QKI1WxD2BGDYqQ2LKCyryMMsIXXQHAT85AC9znp48hi_s',\n",
    "    'x-requested-with': 'XMLHttpRequest',\n",
    "}\n",
    "\n",
    "session.headers.update(users_headers)"
   ]
  },
  {
   "cell_type": "code",
   "execution_count": 128,
   "metadata": {},
   "outputs": [
    {
     "name": "stdout",
     "output_type": "stream",
     "text": [
      "Following: 487; Followers: 595\n"
     ]
    }
   ],
   "source": [
    "response = session.get(\n",
    "        f'https://www.instagram.com/api/v1/users/{user_id}/info/'\n",
    "    )\n",
    "\n",
    "total_following_count = response.json()['user']['following_count']\n",
    "total_follower_count = response.json()['user']['follower_count']\n",
    "print(f'Following: {total_following_count}; Followers: {total_follower_count}')"
   ]
  },
  {
   "cell_type": "code",
   "execution_count": 129,
   "metadata": {},
   "outputs": [
    {
     "name": "stderr",
     "output_type": "stream",
     "text": [
      "Fetching Followers: 100%|██████████| 595/595 [00:18<00:00, 31.62 follower/s, Number of requests=65]\n"
     ]
    }
   ],
   "source": [
    "followers_df = pd.DataFrame()\n",
    "\n",
    "# initial params\n",
    "params = {\n",
    "    'count': '10',\n",
    "    'search_surface': 'follow_list_page',\n",
    "}\n",
    "\n",
    "\n",
    "with tqdm(total=total_follower_count, desc=\"Fetching Followers\", unit=\" follower\") as pbar:\n",
    "    for i in range(total_follower_count): # upper bound number of request by of followers\n",
    "        response = session.get(\n",
    "            f'https://www.instagram.com/api/v1/friendships/{user_id}/followers/',\n",
    "            params=params,\n",
    "        )\n",
    "\n",
    "        # add followers to df\n",
    "        current_followers_df = pd.DataFrame(response.json()['users'])[['id', 'username', 'full_name', 'is_private']]\n",
    "        followers_df = pd.concat([followers_df, current_followers_df], ignore_index=True)\n",
    "        followers_df.drop_duplicates(inplace=True)\n",
    "\n",
    "        # Update the progress bar\n",
    "        pbar.n = len(followers_df)\n",
    "        pbar.set_postfix({\"Number of requests\": f\"{i}\"})\n",
    "        pbar.refresh()\n",
    "\n",
    "        # prep for next request or stop break out of loop\n",
    "        if 'next_max_id' in response.json():\n",
    "            params['max_id'] = response.json()['next_max_id']\n",
    "        else:\n",
    "            break\n",
    "\n",
    "        # take a chill pill every 10 requests\n",
    "        if (i + 1) % 10 == 0:\n",
    "            time.sleep(1)"
   ]
  },
  {
   "cell_type": "code",
   "execution_count": 130,
   "metadata": {},
   "outputs": [
    {
     "name": "stderr",
     "output_type": "stream",
     "text": [
      "Fetching Followings: 100%|██████████| 487/487 [00:18<00:00, 27.05 followings/s, Number of requests=40]\n"
     ]
    }
   ],
   "source": [
    "following_df = pd.DataFrame()\n",
    "\n",
    "params = {\n",
    "    'count': '12',\n",
    "}\n",
    "\n",
    "with tqdm(total=total_following_count, desc=\"Fetching Followings\", unit=\" followings\") as pbar:\n",
    "    for i in range(total_following_count):\n",
    "        response = session.get(\n",
    "            f'https://www.instagram.com/api/v1/friendships/{user_id}/following/',\n",
    "            params=params,\n",
    "        )\n",
    "\n",
    "        # add followers to df\n",
    "        current_following_df = pd.DataFrame(response.json()['users'])[['id', 'username', 'full_name', 'is_private']]\n",
    "        following_df = pd.concat([following_df, current_following_df], ignore_index=True)\n",
    "        following_df.drop_duplicates(inplace=True)\n",
    "\n",
    "        # Update the progress bar\n",
    "        pbar.n = len(following_df)\n",
    "        pbar.set_postfix({\"Number of requests\": f\"{i}\"})\n",
    "        pbar.refresh()\n",
    "\n",
    "        # prep for next request or stop break out of loop\n",
    "        if 'next_max_id' in response.json():\n",
    "            params['max_id'] = response.json()['next_max_id']\n",
    "        else:\n",
    "            break\n",
    "\n",
    "        # take a chill pill every 10 requests\n",
    "        if (i + 1) % 10 == 0:\n",
    "            time.sleep(1)\n"
   ]
  },
  {
   "cell_type": "code",
   "execution_count": 131,
   "metadata": {},
   "outputs": [
    {
     "data": {
      "text/plain": [
       "['davidgoggins',\n",
       " 'hubermanlab',\n",
       " 'jordan.b.peterson',\n",
       " 'lazyprogrammerofficial',\n",
       " 'reallifeheroes.13',\n",
       " 'science']"
      ]
     },
     "execution_count": 131,
     "metadata": {},
     "output_type": "execute_result"
    }
   ],
   "source": [
    "non_followers_usernames = list(np.setdiff1d(following_df['username'], followers_df['username']))\n",
    "non_followers_usernames"
   ]
  },
  {
   "cell_type": "code",
   "execution_count": 132,
   "metadata": {},
   "outputs": [
    {
     "data": {
      "text/html": [
       "<div>\n",
       "<style scoped>\n",
       "    .dataframe tbody tr th:only-of-type {\n",
       "        vertical-align: middle;\n",
       "    }\n",
       "\n",
       "    .dataframe tbody tr th {\n",
       "        vertical-align: top;\n",
       "    }\n",
       "\n",
       "    .dataframe thead th {\n",
       "        text-align: right;\n",
       "    }\n",
       "</style>\n",
       "<table border=\"1\" class=\"dataframe\">\n",
       "  <thead>\n",
       "    <tr style=\"text-align: right;\">\n",
       "      <th></th>\n",
       "      <th>id</th>\n",
       "      <th>username</th>\n",
       "      <th>full_name</th>\n",
       "      <th>is_private</th>\n",
       "      <th>link</th>\n",
       "    </tr>\n",
       "  </thead>\n",
       "  <tbody>\n",
       "    <tr>\n",
       "      <th>480</th>\n",
       "      <td>63481415612</td>\n",
       "      <td>lazyprogrammerofficial</td>\n",
       "      <td>Lazy Programmer - Everything AI/ML &amp; Data Science</td>\n",
       "      <td>False</td>\n",
       "      <td>https://www.instagram.com/lazyprogrammerofficial</td>\n",
       "    </tr>\n",
       "    <tr>\n",
       "      <th>481</th>\n",
       "      <td>2357011531</td>\n",
       "      <td>jordan.b.peterson</td>\n",
       "      <td>Dr. Jordan B. Peterson</td>\n",
       "      <td>False</td>\n",
       "      <td>https://www.instagram.com/jordan.b.peterson</td>\n",
       "    </tr>\n",
       "    <tr>\n",
       "      <th>482</th>\n",
       "      <td>2093326268</td>\n",
       "      <td>science</td>\n",
       "      <td>Science 🧬</td>\n",
       "      <td>False</td>\n",
       "      <td>https://www.instagram.com/science</td>\n",
       "    </tr>\n",
       "    <tr>\n",
       "      <th>483</th>\n",
       "      <td>63218024160</td>\n",
       "      <td>reallifeheroes.13</td>\n",
       "      <td>RealLifeHeroes</td>\n",
       "      <td>False</td>\n",
       "      <td>https://www.instagram.com/reallifeheroes.13</td>\n",
       "    </tr>\n",
       "    <tr>\n",
       "      <th>484</th>\n",
       "      <td>4293712500</td>\n",
       "      <td>hubermanlab</td>\n",
       "      <td>Andrew Huberman, Ph.D.</td>\n",
       "      <td>False</td>\n",
       "      <td>https://www.instagram.com/hubermanlab</td>\n",
       "    </tr>\n",
       "    <tr>\n",
       "      <th>485</th>\n",
       "      <td>3544528924</td>\n",
       "      <td>davidgoggins</td>\n",
       "      <td>David Goggins</td>\n",
       "      <td>False</td>\n",
       "      <td>https://www.instagram.com/davidgoggins</td>\n",
       "    </tr>\n",
       "  </tbody>\n",
       "</table>\n",
       "</div>"
      ],
      "text/plain": [
       "              id                username  \\\n",
       "480  63481415612  lazyprogrammerofficial   \n",
       "481   2357011531       jordan.b.peterson   \n",
       "482   2093326268                 science   \n",
       "483  63218024160       reallifeheroes.13   \n",
       "484   4293712500             hubermanlab   \n",
       "485   3544528924            davidgoggins   \n",
       "\n",
       "                                             full_name  is_private  \\\n",
       "480  Lazy Programmer - Everything AI/ML & Data Science       False   \n",
       "481                             Dr. Jordan B. Peterson       False   \n",
       "482                                          Science 🧬       False   \n",
       "483                                     RealLifeHeroes       False   \n",
       "484                             Andrew Huberman, Ph.D.       False   \n",
       "485                                      David Goggins       False   \n",
       "\n",
       "                                                 link  \n",
       "480  https://www.instagram.com/lazyprogrammerofficial  \n",
       "481       https://www.instagram.com/jordan.b.peterson  \n",
       "482                 https://www.instagram.com/science  \n",
       "483       https://www.instagram.com/reallifeheroes.13  \n",
       "484             https://www.instagram.com/hubermanlab  \n",
       "485            https://www.instagram.com/davidgoggins  "
      ]
     },
     "execution_count": 132,
     "metadata": {},
     "output_type": "execute_result"
    }
   ],
   "source": [
    "unfollowers_df = following_df[following_df['username'].isin(non_followers_usernames)].copy()\n",
    "unfollowers_df['link'] = 'https://www.instagram.com/' + following_df['username']\n",
    "unfollowers_df"
   ]
  }
 ],
 "metadata": {
  "kernelspec": {
   "display_name": "Python 3",
   "language": "python",
   "name": "python3"
  },
  "language_info": {
   "codemirror_mode": {
    "name": "ipython",
    "version": 3
   },
   "file_extension": ".py",
   "mimetype": "text/x-python",
   "name": "python",
   "nbconvert_exporter": "python",
   "pygments_lexer": "ipython3",
   "version": "3.12.3"
  }
 },
 "nbformat": 4,
 "nbformat_minor": 2
}
